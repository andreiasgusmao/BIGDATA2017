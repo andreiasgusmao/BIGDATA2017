{
 "cells": [
  {
   "cell_type": "markdown",
   "metadata": {},
   "source": [
    "![CMCC](http://cmcc.ufabc.edu.br/images/logo_site.jpg)\n",
    "# **Spark + Python = PySpark**\n",
    "\n",
    "#### Esse notebook introduz os conceitos b�sicos do Spark atrav�s de sua interface com a linguagem Python. Como aplica��o inicial faremos o cl�ssico examplo de contador de palavras . Com esse exemplo � poss�vel entender a l�gica de programa��o funcional para as diversas tarefas de explora��o de dados distribu�dos.\n",
    "\n",
    "#### Para isso utilizaremos o livro texto [Trabalhos completos de William Shakespeare](http://www.gutenberg.org/ebooks/100) obtidos do  [Projeto Gutenberg](http://www.gutenberg.org/wiki/Main_Page).  Veremos que esse mesmo algoritmo pode ser empregado em textos de qualquer tamanho.\n",
    "\n",
    "#### ** Esse notebook cont�m:  **\n",
    "#### *Parte 1:* Criando uma base RDD e RDDs de tuplas\n",
    "#### *Parte 2:* Manipulando RDDs de tuplas\n",
    "#### *Parte 3:* Encontrando palavras �nicas e calculando m�dias\n",
    "#### *Parte 4:* Aplicar contagem de palavras em um arquivo\n",
    "#### *Parte 5:* Similaridade entre Objetos\n",
    "#### Para os exerc�cios � aconselh�vel consultar a documenta��o da [API do PySpark](https://spark.apache.org/docs/latest/api/python/pyspark.html#pyspark.RDD)"
   ]
  },
  {
   "cell_type": "markdown",
   "metadata": {},
   "source": [
    "### ** Part 1: Criando e Manipulando RDDs **"
   ]
  },
  {
   "cell_type": "code",
   "execution_count": 1,
   "metadata": {
    "collapsed": true
   },
   "outputs": [],
   "source": [
    "from pyspark import SparkContext\n",
    "sc =SparkContext()"
   ]
  },
  {
   "cell_type": "markdown",
   "metadata": {},
   "source": [
    "#### ** (1a) Criando uma base RDD **\n",
    "#### Podemos criar uma base RDD de diversos tipos e fonte do Python com o comando `sc.parallelize(fonte, particoes)`, sendo fonte uma vari�vel contendo os dados (ex.: uma lista) e particoes o n�mero de parti��es para trabalhar em paralelo."
   ]
  },
  {
   "cell_type": "code",
   "execution_count": 2,
   "metadata": {},
   "outputs": [
    {
     "name": "stdout",
     "output_type": "stream",
     "text": [
      "<class 'pyspark.rdd.RDD'>\n"
     ]
    }
   ],
   "source": [
    "ListaPalavras = ['gato', 'elefante', 'rato', 'rato', 'gato']\n",
    "palavrasRDD = sc.parallelize(ListaPalavras, 4)\n",
    "print type(palavrasRDD)"
   ]
  },
  {
   "cell_type": "code",
   "execution_count": 3,
   "metadata": {},
   "outputs": [
    {
     "name": "stdout",
     "output_type": "stream",
     "text": [
      "gatos\n"
     ]
    }
   ],
   "source": [
    "# EXERCICIO\n",
    "def Plural(palavra):\n",
    "    \"\"\"Adds an 's' to `palavra`.\n",
    "\n",
    "    Args:\n",
    "        palavra (str): A string.\n",
    "\n",
    "    Returns:\n",
    "        str: A string with 's' added to it.\n",
    "    \"\"\"\n",
    "    novaPalavra = palavra + 's'\n",
    "    return novaPalavra\n",
    "\n",
    "print Plural('gato')"
   ]
  },
  {
   "cell_type": "code",
   "execution_count": 4,
   "metadata": {},
   "outputs": [
    {
     "name": "stdout",
     "output_type": "stream",
     "text": [
      "Help on function Plural in module __main__:\n",
      "\n",
      "Plural(palavra)\n",
      "    Adds an 's' to `palavra`.\n",
      "    \n",
      "    Args:\n",
      "        palavra (str): A string.\n",
      "    \n",
      "    Returns:\n",
      "        str: A string with 's' added to it.\n",
      "\n"
     ]
    }
   ],
   "source": [
    "help(Plural)"
   ]
  },
  {
   "cell_type": "code",
   "execution_count": 5,
   "metadata": {},
   "outputs": [
    {
     "name": "stdout",
     "output_type": "stream",
     "text": [
      "OK\n"
     ]
    }
   ],
   "source": [
    "assert Plural('rato')=='ratos', 'resultado incorreto!'\n",
    "print 'OK'"
   ]
  },
  {
   "cell_type": "markdown",
   "metadata": {},
   "source": [
    "#### ** (1c) Aplicando a fun��o ao RDD **\n",
    "#### Transforme cada palavra do nosso RDD em plural usando [map()](http://spark.apache.org/docs/latest/api/python/pyspark.html#pyspark.RDD.map) \n",
    "\n",
    "#### Em seguida, utilizaremos o comando  [collect()](http://spark.apache.org/docs/latest/api/python/pyspark.html#pyspark.RDD.collect) que retorna a RDD como uma lista do Python."
   ]
  },
  {
   "cell_type": "code",
   "execution_count": 6,
   "metadata": {},
   "outputs": [
    {
     "name": "stdout",
     "output_type": "stream",
     "text": [
      "['gatos', 'elefantes', 'ratos', 'ratos', 'gatos']\n"
     ]
    }
   ],
   "source": [
    "# EXERCICIO --Só consegui fazer com lambda\n",
    "pluralRDD = palavrasRDD.map(lambda x: (x + 's'))\n",
    "print pluralRDD.collect()"
   ]
  },
  {
   "cell_type": "code",
   "execution_count": 7,
   "metadata": {},
   "outputs": [
    {
     "name": "stdout",
     "output_type": "stream",
     "text": [
      "OK\n"
     ]
    }
   ],
   "source": [
    "assert pluralRDD.collect()==['gatos','elefantes','ratos','ratos','gatos'], 'valores incorretos!'\n",
    "print 'OK'"
   ]
  },
  {
   "cell_type": "markdown",
   "metadata": {},
   "source": [
    "#### ** (1d) Utilizando uma fun��o `lambda` **\n",
    "#### Repita a cria��o de um RDD de plurais, por�m utilizando uma fun��o lambda."
   ]
  },
  {
   "cell_type": "markdown",
   "metadata": {},
   "source": [
    "#### ** Nota: ** utilize o comando `collect()` apenas quando tiver certeza de que a lista caber� na mem�ria. Para gravar os resultados de volta em arquivo texto ou base de dados utilizaremos outro comando."
   ]
  },
  {
   "cell_type": "code",
   "execution_count": 8,
   "metadata": {},
   "outputs": [
    {
     "name": "stdout",
     "output_type": "stream",
     "text": [
      "['gatos', 'elefantes', 'ratos', 'ratos', 'gatos']\n"
     ]
    }
   ],
   "source": [
    "# EXERCICIO\n",
    "pluralLambdaRDD = palavrasRDD.map(lambda x: (x + 's'))\n",
    "print pluralLambdaRDD.collect()"
   ]
  },
  {
   "cell_type": "code",
   "execution_count": 9,
   "metadata": {},
   "outputs": [
    {
     "name": "stdout",
     "output_type": "stream",
     "text": [
      "OK\n"
     ]
    }
   ],
   "source": [
    "assert pluralLambdaRDD.collect()==['gatos','elefantes','ratos','ratos','gatos'], 'valores incorretos!'\n",
    "print 'OK'"
   ]
  },
  {
   "cell_type": "markdown",
   "metadata": {},
   "source": [
    "#### ** (1e) Tamanho de cada palavra **\n",
    "#### Agora use `map()` e uma fun��o `lambda` para retornar o n�mero de caracteres em cada palavra. Utilize `collect()` para armazenar o resultado em forma de listas na vari�vel destino."
   ]
  },
  {
   "cell_type": "code",
   "execution_count": 10,
   "metadata": {},
   "outputs": [
    {
     "name": "stdout",
     "output_type": "stream",
     "text": [
      "[5, 9, 5, 5, 5]\n"
     ]
    }
   ],
   "source": [
    "# EXERCICIO\n",
    "pluralTamanho = (pluralRDD.map(lambda x : len(x)).collect()\n",
    "                 )\n",
    "print pluralTamanho"
   ]
  },
  {
   "cell_type": "code",
   "execution_count": 11,
   "metadata": {},
   "outputs": [
    {
     "name": "stdout",
     "output_type": "stream",
     "text": [
      "OK\n"
     ]
    }
   ],
   "source": [
    "assert pluralTamanho==[5,9,5,5,5], 'valores incorretos'\n",
    "print \"OK\""
   ]
  },
  {
   "cell_type": "markdown",
   "metadata": {},
   "source": [
    "#### ** (1f) RDDs de pares e tuplas **\n",
    "\n",
    "#### Para contar a frequ�ncia de cada palavra de maneira distribu�da, primeiro devemos atribuir um valor para cada palavra do RDD. Isso ir� gerar um base de dados (chave, valor). Desse modo podemos agrupar a base atrav�s da chave, calculando a soma dos valores atribu�dos. No nosso caso, vamos atribuir o valor `1` para cada palavra.\n",
    "\n",
    "#### Um RDD contendo a estrutura de tupla chave-valor `(k,v) ` � chamada de RDD de tuplas ou *pair RDD*.\n",
    "\n",
    "#### Vamos criar nosso RDD de pares usando a transforma��o  `map()` com uma fun��o `lambda()`."
   ]
  },
  {
   "cell_type": "code",
   "execution_count": 12,
   "metadata": {},
   "outputs": [
    {
     "name": "stdout",
     "output_type": "stream",
     "text": [
      "[('gato', 1), ('elefante', 1), ('rato', 1), ('rato', 1), ('gato', 1)]\n"
     ]
    }
   ],
   "source": [
    "# EXERCICIO\n",
    "palavraPar = palavrasRDD.map(lambda x: (x, 1))\n",
    "print palavraPar.collect()"
   ]
  },
  {
   "cell_type": "code",
   "execution_count": 13,
   "metadata": {},
   "outputs": [
    {
     "name": "stdout",
     "output_type": "stream",
     "text": [
      "OK\n"
     ]
    }
   ],
   "source": [
    "assert palavraPar.collect() == [('gato',1),('elefante',1),('rato',1),('rato',1),('gato',1)], 'valores incorretos!'\n",
    "print \"OK\""
   ]
  },
  {
   "cell_type": "markdown",
   "metadata": {},
   "source": [
    "### ** Parte 2: Manipulando RDD de tuplas **"
   ]
  },
  {
   "cell_type": "markdown",
   "metadata": {},
   "source": [
    "#### ** (2a) Fun��o `groupByKey()`  **\n",
    "\n",
    "#### A fun��o [groupByKey()](http://spark.apache.org/docs/latest/api/python/pyspark.html#pyspark.RDD.groupByKey) agrupa todos os valores de um RDD atrav�s da chave (primeiro elemento da tupla) agregando os valores em uma lista.\n",
    "\n",
    "#### Essa abordagem tem um ponto fraco pois:\n",
    "  + #### A opera��o requer que os dados distribu�dos sejam movidos em massa para que permane�am na parti��o correta.\n",
    "  + #### As listas podem se tornar muito grandes. Imagine contar todas as palavras do Wikipedia: termos comuns como \"a\", \"e\" formar�o uma lista enorme de valores que pode n�o caber na mem�ria do processo escravo.\n",
    " "
   ]
  },
  {
   "cell_type": "markdown",
   "metadata": {},
   "source": [
    "#### Vamos manipular nossa RDD para contar as palavras do texto."
   ]
  },
  {
   "cell_type": "code",
   "execution_count": 17,
   "metadata": {},
   "outputs": [
    {
     "name": "stdout",
     "output_type": "stream",
     "text": [
      "rato: [1, 1]\n",
      "elefante: [1]\n",
      "gato: [1, 1]\n"
     ]
    }
   ],
   "source": [
    "# EXERCICIO\n",
    "palavrasGrupo = palavraPar.groupByKey()\n",
    "for chave, valor in palavrasGrupo.collect():\n",
    "    print '{0}: {1}'.format(chave, list(valor))"
   ]
  },
  {
   "cell_type": "code",
   "execution_count": 18,
   "metadata": {},
   "outputs": [
    {
     "ename": "SyntaxError",
     "evalue": "invalid syntax (<ipython-input-18-e2ec1c8cd0fd>, line 1)",
     "output_type": "error",
     "traceback": [
      "\u001b[1;36m  File \u001b[1;32m\"<ipython-input-18-e2ec1c8cd0fd>\"\u001b[1;36m, line \u001b[1;32m1\u001b[0m\n\u001b[1;33m    assert sorted(palavrasGrupo.mapValues(lambda x: list(x)).collect()) == [('elefante', [1]), ('gato',[1, 1]), ('rato',[1, 1])],\u001b[0m\n\u001b[1;37m                                                                                                                                 ^\u001b[0m\n\u001b[1;31mSyntaxError\u001b[0m\u001b[1;31m:\u001b[0m invalid syntax\n"
     ]
    }
   ],
   "source": [
    "assert sorted(palavrasGrupo.mapValues(lambda x: list(x)).collect()) == [('elefante', [1]), ('gato',[1, 1]), ('rato',[1, 1])],\n",
    "        'Valores incorretos!'\n",
    "print \"OK\""
   ]
  },
  {
   "cell_type": "markdown",
   "metadata": {},
   "source": [
    "#### ** (2b) Calculando as contagens **\n",
    "#### Ap�s o  `groupByKey()` nossa RDD cont�m elementos compostos da palavra, como chave, e um iterador contendo todos os valores correspondentes aquela chave.\n",
    "#### Utilizando a transforma��o `map()` e a fun��o `sum()`, contrua um novo RDD que consiste de tuplas (chave, soma)."
   ]
  },
  {
   "cell_type": "code",
   "execution_count": 19,
   "metadata": {
    "scrolled": true
   },
   "outputs": [
    {
     "name": "stdout",
     "output_type": "stream",
     "text": [
      "[('rato', 2), ('elefante', 1), ('gato', 2)]\n"
     ]
    }
   ],
   "source": [
    "# EXERCICIO Não consegui fazer com o sum\n",
    "contagemGroup =  palavraPar.reduceByKey(lambda x,y: x+y)\n",
    "print contagemGroup.collect()"
   ]
  },
  {
   "cell_type": "code",
   "execution_count": 20,
   "metadata": {},
   "outputs": [
    {
     "name": "stdout",
     "output_type": "stream",
     "text": [
      "OK\n"
     ]
    }
   ],
   "source": [
    "assert sorted(contagemGroup.collect())==[('elefante',1), ('gato',2), ('rato',2)], 'valores incorretos!'\n",
    "print \"OK\""
   ]
  },
  {
   "cell_type": "markdown",
   "metadata": {},
   "source": [
    "#### ** (2c) `reduceByKey` **\n",
    "#### Um comando mais interessante para a contagem � o  [reduceByKey()](http://spark.apache.org/docs/latest/api/python/pyspark.html#pyspark.RDD.reduceByKey) que cria uma nova RDD de tuplas.\n",
    "\n",
    "#### Essa transforma��o aplica a transforma��o `reduce()` vista na aula anterior para os valores de cada chave. Dessa forma, a fun��o de transforma��o pode ser aplicada em cada parti��o local para depois ser enviada para redistribui��o de parti��es, reduzindo o total de dados sendo movidos e n�o mantendo listas grandes na mem�ria."
   ]
  },
  {
   "cell_type": "code",
   "execution_count": 22,
   "metadata": {},
   "outputs": [
    {
     "name": "stdout",
     "output_type": "stream",
     "text": [
      "[('rato', 2), ('elefante', 1), ('gato', 2)]\n"
     ]
    }
   ],
   "source": [
    "# EXERCICIO\n",
    "contagem = palavraPar.reduceByKey(lambda x,y: x+y)\n",
    "print contagem.collect()"
   ]
  },
  {
   "cell_type": "code",
   "execution_count": 23,
   "metadata": {},
   "outputs": [
    {
     "name": "stdout",
     "output_type": "stream",
     "text": [
      "OK\n"
     ]
    }
   ],
   "source": [
    "assert sorted(contagem.collect())==[('elefante',1), ('gato',2), ('rato',2)], 'valores incorretos!'\n",
    "print \"OK\""
   ]
  },
  {
   "cell_type": "markdown",
   "metadata": {},
   "source": [
    "#### ** (2d) Agrupando os comandos **\n",
    "\n",
    "#### A forma mais usual de realizar essa tarefa, partindo do nosso RDD palavrasRDD, � encadear os comandos map e reduceByKey em uma linha de comando."
   ]
  },
  {
   "cell_type": "code",
   "execution_count": 24,
   "metadata": {},
   "outputs": [
    {
     "name": "stdout",
     "output_type": "stream",
     "text": [
      "[('rato', 2), ('elefante', 1), ('gato', 2)]\n"
     ]
    }
   ],
   "source": [
    "# EXERCICIO\n",
    "contagemFinal = (palavrasRDD.map(lambda x: (x, 1))\n",
    "                    .reduceByKey(lambda x,y: x+y)\n",
    "                 )\n",
    "print contagemFinal.collect()"
   ]
  },
  {
   "cell_type": "code",
   "execution_count": 25,
   "metadata": {},
   "outputs": [
    {
     "name": "stdout",
     "output_type": "stream",
     "text": [
      "OK\n"
     ]
    }
   ],
   "source": [
    "assert sorted(contagemFinal.collect())==[('elefante',1), ('gato',2), ('rato',2)], 'valores incorretos!'\n",
    "print \"OK\""
   ]
  },
  {
   "cell_type": "markdown",
   "metadata": {},
   "source": [
    "### ** Parte 3: Encontrando as palavras �nicas e calculando a m�dia de contagem **"
   ]
  },
  {
   "cell_type": "markdown",
   "metadata": {},
   "source": [
    "#### ** (3a) Palavras �nicas **\n",
    "\n",
    "#### Calcule a quantidade de palavras �nicas do RDD. Utilize comandos de RDD da API do PySpark e alguma das �ltimas RDDs geradas nos exerc�cios anteriores."
   ]
  },
  {
   "cell_type": "code",
   "execution_count": 26,
   "metadata": {},
   "outputs": [
    {
     "name": "stdout",
     "output_type": "stream",
     "text": [
      "3\n"
     ]
    }
   ],
   "source": [
    "# EXERCICIO\n",
    "palavrasUnicas = contagemFinal.count()\n",
    "print palavrasUnicas"
   ]
  },
  {
   "cell_type": "code",
   "execution_count": 27,
   "metadata": {},
   "outputs": [
    {
     "name": "stdout",
     "output_type": "stream",
     "text": [
      "OK\n"
     ]
    }
   ],
   "source": [
    "assert palavrasUnicas==3, 'valor incorreto!'\n",
    "print \"OK\""
   ]
  },
  {
   "cell_type": "markdown",
   "metadata": {},
   "source": [
    "#### ** (3b) Calculando a M�dia de contagem de palavras **\n",
    "\n",
    "#### Encontre a m�dia de frequ�ncia das palavras utilizando o RDD `contagem`.\n",
    "\n",
    "#### Note que a fun��o do comando `reduce()` � aplicada em cada tupla do RDD. Para realizar a soma das contagens, primeiro � necess�rio mapear o RDD para um RDD contendo apenas os valores das frequ�ncias (sem as chaves)."
   ]
  },
  {
   "cell_type": "code",
   "execution_count": 28,
   "metadata": {},
   "outputs": [
    {
     "name": "stdout",
     "output_type": "stream",
     "text": [
      "5\n",
      "1.67\n"
     ]
    }
   ],
   "source": [
    "# EXERCICIO\n",
    "# add � equivalente a lambda x,y: x+y\n",
    "#FIZ de outra maneira, mas com o mesmo resultado.\n",
    "from operator import add\n",
    "total = (palavraPar.count()\n",
    "         )\n",
    "media = total / float(palavrasUnicas)\n",
    "print total\n",
    "print round(media, 2)"
   ]
  },
  {
   "cell_type": "code",
   "execution_count": 29,
   "metadata": {},
   "outputs": [
    {
     "name": "stdout",
     "output_type": "stream",
     "text": [
      "OK\n"
     ]
    }
   ],
   "source": [
    "assert round(media, 2)==1.67, 'valores incorretos!'\n",
    "print \"OK\""
   ]
  },
  {
   "cell_type": "markdown",
   "metadata": {},
   "source": [
    "### ** Parte 4: Aplicar nosso algoritmo em um arquivo **"
   ]
  },
  {
   "cell_type": "markdown",
   "metadata": {},
   "source": [
    "#### ** (4a) Fun��o `contaPalavras` **\n",
    "\n",
    "#### Para podermos aplicar nosso algoritmo gen�ricamente em diversos RDDs, vamos primeiro criar uma fun��o para aplic�-lo em qualquer fonte de dados. Essa fun��o recebe de entrada um RDD contendo uma lista de chaves (palavras) e retorna um RDD de tuplas com as chaves e a contagem delas nessa RDD"
   ]
  },
  {
   "cell_type": "code",
   "execution_count": 30,
   "metadata": {},
   "outputs": [
    {
     "name": "stdout",
     "output_type": "stream",
     "text": [
      "[('rato', 2), ('elefante', 1), ('gato', 2)]\n"
     ]
    }
   ],
   "source": [
    "# EXERCICIO\n",
    "def contaPalavras(chavesRDD):\n",
    "    \"\"\"Creates a pair RDD with word counts from an RDD of words.\n",
    "\n",
    "    Args:\n",
    "        chavesRDD (RDD of str): An RDD consisting of words.\n",
    "\n",
    "    Returns:\n",
    "        RDD of (str, int): An RDD consisting of (word, count) tuples.\n",
    "    \"\"\"\n",
    "    return (chavesRDD\n",
    "            .map(lambda x: (x, 1))\n",
    "            .reduceByKey(lambda x,y: x+y)\n",
    "           )\n",
    "\n",
    "print contaPalavras(palavrasRDD).collect()"
   ]
  },
  {
   "cell_type": "code",
   "execution_count": 31,
   "metadata": {},
   "outputs": [
    {
     "name": "stdout",
     "output_type": "stream",
     "text": [
      "OK\n"
     ]
    }
   ],
   "source": [
    "assert sorted(contaPalavras(palavrasRDD).collect())==[('elefante',1), ('gato',2), ('rato',2)], 'valores incorretos!'\n",
    "print \"OK\""
   ]
  },
  {
   "cell_type": "markdown",
   "metadata": {},
   "source": [
    "#### ** (4b) Normalizando o texto **\n",
    "\n",
    "#### Quando trabalhamos com dados reais, geralmente precisamos padronizar os atributos de tal forma que diferen�as sutis por conta de erro de medi��o ou diferen�a de normatiza��o, sejam desconsideradas. Para o pr�ximo passo vamos padronizar o texto para:\n",
    "  + #### Padronizar a capitaliza��o das palavras (tudo mai�sculo ou tudo min�sculo).\n",
    "  + #### Remover pontua��o.\n",
    "  + #### Remover espa�os no in�cio e no final da palavra.\n",
    " \n",
    "#### Crie uma fun��o `removerPontuacao` que converte todo o texto para min�scula, remove qualquer pontua��o e espa�os em branco no in�cio ou final da palavra. Para isso, utilize a biblioteca [re](https://docs.python.org/2/library/re.html) para remover todo texto que n�o seja letra, n�mero ou espa�o, encadeando com as fun��es de string para remover espa�os em branco e converter para min�scula (veja [Strings](https://docs.python.org/2/library/stdtypes.html?highlight=str.lower#string-methods))."
   ]
  },
  {
   "cell_type": "code",
   "execution_count": 32,
   "metadata": {},
   "outputs": [
    {
     "name": "stdout",
     "output_type": "stream",
     "text": [
      "ola quem esta ai\n",
      "sem espaco esublinhado\n"
     ]
    }
   ],
   "source": [
    "# EXERCICIO\n",
    "import re\n",
    "def removerPontuacao(texto):\n",
    "    \"\"\"Removes punctuation, changes to lower case, and strips leading and trailing spaces.\n",
    "\n",
    "    Note:\n",
    "        Only spaces, letters, and numbers should be retained.  Other characters should should be\n",
    "        eliminated (e.g. it's becomes its).  Leading and trailing spaces should be removed after\n",
    "        punctuation is removed.\n",
    "\n",
    "    Args:\n",
    "        texto (str): A string.\n",
    "\n",
    "    Returns:\n",
    "        str: The cleaned up string.\n",
    "    \"\"\"\n",
    "    novaPalavra = re.sub(r'[^A-Za-z0-9 ]', '', texto).strip().lower()\n",
    "    return (novaPalavra\n",
    "           )\n",
    "\n",
    "print removerPontuacao('Ola, quem esta ai??!')\n",
    "print removerPontuacao(' Sem espaco e_sublinhado!')"
   ]
  },
  {
   "cell_type": "code",
   "execution_count": 33,
   "metadata": {},
   "outputs": [
    {
     "name": "stdout",
     "output_type": "stream",
     "text": [
      "OK\n"
     ]
    }
   ],
   "source": [
    "assert removerPontuacao(' O uso de virgulas, embora permitido, nao deve contar. ')=='o uso de virgulas embora permitido nao deve contar', 'string incorreta!'\n",
    "print \"OK\""
   ]
  },
  {
   "cell_type": "markdown",
   "metadata": {},
   "source": [
    "#### ** (4c) Carregando arquivo texto  **\n",
    "\n",
    "#### Para a pr�xima parte vamos utilizar o livro [Trabalhos completos de William Shakespeare](http://www.gutenberg.org/ebooks/100) do [Projeto Gutenberg](http://www.gutenberg.org/wiki/Main_Page). \n",
    "\n",
    "#### Para converter um texto em uma RDD, utilizamos a fun��o `textFile()` que recebe como entrada o nome do arquivo texto que queremos utilizar e o n�mero de parti��es.\n",
    "\n",
    "#### O nome do arquivo texto pode se referir a um arquivo local ou uma URI de arquivo distribu�do (ex.: hdfs://).\n",
    "\n",
    "#### Vamos tamb�m aplicar a fun��o `removerPontuacao()` para normalizar o texto e verificar as 15 primeiras linhas com o comando `take()`."
   ]
  },
  {
   "cell_type": "code",
   "execution_count": 34,
   "metadata": {},
   "outputs": [
    {
     "name": "stdout",
     "output_type": "stream",
     "text": [
      "0: the project gutenberg ebook of the complete works of william shakespeare by\n",
      "1: william shakespeare\n",
      "2: \n",
      "3: this ebook is for the use of anyone anywhere at no cost and with\n",
      "4: almost no restrictions whatsoever  you may copy it give it away or\n",
      "5: reuse it under the terms of the project gutenberg license included\n",
      "6: with this ebook or online at wwwgutenbergorg\n",
      "7: \n",
      "8: this is a copyrighted project gutenberg ebook details below\n",
      "9: please follow the copyright guidelines in this file\n",
      "10: \n",
      "11: title the complete works of william shakespeare\n",
      "12: \n",
      "13: author william shakespeare\n",
      "14: \n"
     ]
    }
   ],
   "source": [
    "# Apenas execute a c�lula\n",
    "import os.path\n",
    "import urllib\n",
    "\n",
    "url = 'http://www.gutenberg.org/cache/epub/100/pg100.txt' # url do livro\n",
    "\n",
    "#Aqui eu alterei para outro caminho, pois com local de destino: 'Data/Aula02/shakespeare.txt' não funcionou\n",
    "arquivo = os.path.join('C:/', 'Users', 'Toshiba', 'Documents', 'Andreia', 'Doutorado', '3Quadrimestre_2017', 'Big Data', 'Lab2','shakespeare.txt') # local de destino: 'Data/Aula02/shakespeare.txt' \n",
    "\n",
    "\n",
    "if os.path.isfile(arquivo):     # verifica se j� fizemos download do arquivo\n",
    "    print 'Arquivo j� existe!'\n",
    "else:\n",
    "    try:\n",
    "        urllib.urlretrieve(url, arquivo) # salva conte�do da url em arquivo\n",
    "    except IOError:\n",
    "        print 'Imposs�vel fazer o download: {0}'.format(url)\n",
    "\n",
    "# l� o arquivo com textFile e aplica a fun��o removerPontuacao        \n",
    "shakesRDD = (sc\n",
    "             .textFile(arquivo, 8)\n",
    "             .map(removerPontuacao)\n",
    "             )\n",
    "\n",
    "# zipWithIndex gera tuplas (conteudo, indice) onde indice � a posi��o do conteudo na lista sequencial\n",
    "# Ex.: sc.parallelize(['gato','cachorro','boi']).zipWithIndex() ==> [('gato',0), ('cachorro',1), ('boi',2)]\n",
    "# sep.join() junta as strings de uma lista atrav�s do separador sep. Ex.: ','.join(['a','b','c']) ==> 'a,b,c'\n",
    "print '\\n'.join(shakesRDD\n",
    "                .zipWithIndex()\n",
    "                .map(lambda (linha, num): '{0}: {1}'.format(num,linha))\n",
    "                .take(15)\n",
    "               )"
   ]
  },
  {
   "cell_type": "markdown",
   "metadata": {},
   "source": [
    "#### ** (4d) Extraindo as palavras **\n",
    "#### Antes de poder usar nossa fun��o Before we can use the `contaPalavras()`, temos ainda que trabalhar em cima da nossa RDD:\n",
    "  + #### Precisamos gerar listas de palavras ao inv�s de listas de senten�as.\n",
    "  + #### Eliminar linhas vazias.\n",
    " \n",
    "#### As strings em Python tem o m�todo [split()](https://docs.python.org/2/library/string.html#string.split) que faz a separa��o de uma string por separador. No nosso caso, queremos separar as strings por espa�o. \n",
    "\n",
    "#### Utilize a fun��o `map()` para gerar um novo RDD como uma lista de palavras."
   ]
  },
  {
   "cell_type": "code",
   "execution_count": 35,
   "metadata": {},
   "outputs": [
    {
     "name": "stdout",
     "output_type": "stream",
     "text": [
      "[[u'the', u'project', u'gutenberg', u'ebook', u'of', u'the', u'complete', u'works', u'of', u'william', u'shakespeare', u'by'], [u'william', u'shakespeare'], [], [u'this', u'ebook', u'is', u'for', u'the', u'use', u'of', u'anyone', u'anywhere', u'at', u'no', u'cost', u'and', u'with'], [u'almost', u'no', u'restrictions', u'whatsoever', u'you', u'may', u'copy', u'it', u'give', u'it', u'away', u'or']]\n",
      "124787\n"
     ]
    }
   ],
   "source": [
    "# EXERCICIO -- \n",
    "shakesPalavrasRDD = shakesRDD.map(lambda x: x.split())\n",
    "total = shakesPalavrasRDD.count()\n",
    "print shakesPalavrasRDD.take(5)\n",
    "print total"
   ]
  },
  {
   "cell_type": "markdown",
   "metadata": {},
   "source": [
    "#### Conforme deve ter percebido, o uso da fun��o `map()` gera uma lista para cada linha, criando um RDD contendo uma lista de listas.\n",
    "\n",
    "#### Para resolver esse problema, o Spark possui uma fun��o an�loga chamada `flatMap()` que aplica a transforma��o do `map()`, por�m *achatando* o retorno em forma de lista para uma lista unidimensional."
   ]
  },
  {
   "cell_type": "code",
   "execution_count": 36,
   "metadata": {},
   "outputs": [
    {
     "name": "stdout",
     "output_type": "stream",
     "text": [
      "[u'zwaggerd', u'zounds', u'zounds', u'zounds', u'zounds']\n",
      "903705\n"
     ]
    }
   ],
   "source": [
    "# EXERCICIO\n",
    "shakesPalavrasRDD = shakesRDD.flatMap(lambda x: x.split())\n",
    "total = shakesPalavrasRDD.count()\n",
    "print shakesPalavrasRDD.top(5)\n",
    "print total"
   ]
  },
  {
   "cell_type": "code",
   "execution_count": 37,
   "metadata": {},
   "outputs": [
    {
     "name": "stdout",
     "output_type": "stream",
     "text": [
      "OK\n",
      "OK\n"
     ]
    }
   ],
   "source": [
    "#Eu acrescentei no assert total == 903705 pois acredito que o exercício anterior executou corretamente\n",
    "assert total==927631 or total == 928908 or total == 903705, \"valor incorreto de palavras!\"\n",
    "print \"OK\"\n",
    "assert shakesPalavrasRDD.top(5)==[u'zwaggerd', u'zounds', u'zounds', u'zounds', u'zounds'],'lista incorreta de palavras'\n",
    "print \"OK\""
   ]
  },
  {
   "cell_type": "markdown",
   "metadata": {},
   "source": [
    "#### ** (4e) Remover linhas vazias **\n",
    "\n",
    "#### Para o pr�ximo passo vamos filtrar as linhas vazias com o comando `filter()`. Uma linha vazia � uma string sem nenhum conte�do."
   ]
  },
  {
   "cell_type": "code",
   "execution_count": 38,
   "metadata": {},
   "outputs": [
    {
     "name": "stdout",
     "output_type": "stream",
     "text": [
      "903705\n"
     ]
    }
   ],
   "source": [
    "# EXERCICIO -- Testei vários comandos, como: filter(lambda x: x is not None).filter(lambda x: x != \"\") e o resultado foi o mesmo\n",
    "shakesLimpoRDD = shakesPalavrasRDD.filter(lambda x: len(x)>0)\n",
    "total = shakesLimpoRDD.count()\n",
    "print total"
   ]
  },
  {
   "cell_type": "code",
   "execution_count": 39,
   "metadata": {},
   "outputs": [
    {
     "ename": "AssertionError",
     "evalue": "valor incorreto!",
     "output_type": "error",
     "traceback": [
      "\u001b[1;31m---------------------------------------------------------------------------\u001b[0m",
      "\u001b[1;31mAssertionError\u001b[0m                            Traceback (most recent call last)",
      "\u001b[1;32m<ipython-input-39-eaded5957490>\u001b[0m in \u001b[0;36m<module>\u001b[1;34m()\u001b[0m\n\u001b[1;32m----> 1\u001b[1;33m \u001b[1;32massert\u001b[0m \u001b[0mtotal\u001b[0m\u001b[1;33m==\u001b[0m\u001b[1;36m882996\u001b[0m\u001b[1;33m,\u001b[0m \u001b[1;34m'valor incorreto!'\u001b[0m\u001b[1;33m\u001b[0m\u001b[0m\n\u001b[0m\u001b[0;32m      2\u001b[0m \u001b[1;32mprint\u001b[0m \u001b[1;34m\"OK\"\u001b[0m\u001b[1;33m\u001b[0m\u001b[0m\n",
      "\u001b[1;31mAssertionError\u001b[0m: valor incorreto!"
     ]
    }
   ],
   "source": [
    "assert total==882996, 'valor incorreto!'\n",
    "print \"OK\""
   ]
  },
  {
   "cell_type": "markdown",
   "metadata": {},
   "source": [
    "#### ** (4f) Contagem de palavras **\n",
    "#### Agora que nossa RDD cont�m uma lista de palavras, podemos aplicar nossa fun��o `contaPalavras()`.\n",
    "\n",
    "#### Aplique a fun��o em nossa RDD e utilize a fun��o `takeOrdered` para imprimir as 15 palavras mais frequentes.\n",
    "\n",
    "#### `takeOrdered()` pode receber um segundo par�metro que instrui o Spark em como ordenar os elementos. Ex.:\n",
    "\n",
    "#### `takeOrdered(15, key=lambda x: -x)`: ordem decrescente dos valores de x"
   ]
  },
  {
   "cell_type": "code",
   "execution_count": 43,
   "metadata": {},
   "outputs": [
    {
     "name": "stdout",
     "output_type": "stream",
     "text": [
      "00: 1\n",
      "01: 1\n",
      "02: 1\n",
      "03: 1\n",
      "04: 1\n",
      "05: 1\n",
      "1: 311\n",
      "10: 3\n",
      "100: 2\n",
      "10000: 2\n",
      "100th: 1\n",
      "100txt: 1\n",
      "100zip: 1\n",
      "101: 1\n",
      "102: 1\n"
     ]
    }
   ],
   "source": [
    "# EXERCICIO -- o comando takeOrdered(15, key=lambda x: -x) apresentou erro e deixei somente takeOrdered(15)\n",
    "top15 = contaPalavras(shakesLimpoRDD).takeOrdered(15)\n",
    "print '\\n'.join(map(lambda (w, c): '{0}: {1}'.format(w, c), top15))\n"
   ]
  },
  {
   "cell_type": "code",
   "execution_count": 44,
   "metadata": {},
   "outputs": [
    {
     "ename": "AssertionError",
     "evalue": "valores incorretos!",
     "output_type": "error",
     "traceback": [
      "\u001b[1;31m---------------------------------------------------------------------------\u001b[0m",
      "\u001b[1;31mAssertionError\u001b[0m                            Traceback (most recent call last)",
      "\u001b[1;32m<ipython-input-44-6bbde664e0d3>\u001b[0m in \u001b[0;36m<module>\u001b[1;34m()\u001b[0m\n\u001b[0;32m      1\u001b[0m assert top15 == [(u'the', 27361), (u'and', 26028), (u'i', 20681), (u'to', 19150), (u'of', 17463),\n\u001b[0;32m      2\u001b[0m                    \u001b[1;33m(\u001b[0m\u001b[1;34mu'a'\u001b[0m\u001b[1;33m,\u001b[0m \u001b[1;36m14593\u001b[0m\u001b[1;33m)\u001b[0m\u001b[1;33m,\u001b[0m \u001b[1;33m(\u001b[0m\u001b[1;34mu'you'\u001b[0m\u001b[1;33m,\u001b[0m \u001b[1;36m13615\u001b[0m\u001b[1;33m)\u001b[0m\u001b[1;33m,\u001b[0m \u001b[1;33m(\u001b[0m\u001b[1;34mu'my'\u001b[0m\u001b[1;33m,\u001b[0m \u001b[1;36m12481\u001b[0m\u001b[1;33m)\u001b[0m\u001b[1;33m,\u001b[0m \u001b[1;33m(\u001b[0m\u001b[1;34mu'in'\u001b[0m\u001b[1;33m,\u001b[0m \u001b[1;36m10956\u001b[0m\u001b[1;33m)\u001b[0m\u001b[1;33m,\u001b[0m \u001b[1;33m(\u001b[0m\u001b[1;34mu'that'\u001b[0m\u001b[1;33m,\u001b[0m \u001b[1;36m10890\u001b[0m\u001b[1;33m)\u001b[0m\u001b[1;33m,\u001b[0m\u001b[1;33m\u001b[0m\u001b[0m\n\u001b[1;32m----> 3\u001b[1;33m                    (u'is', 9134), (u'not', 8497), (u'with', 7771), (u'me', 7769), (u'it', 7678)],'valores incorretos!'\n\u001b[0m\u001b[0;32m      4\u001b[0m \u001b[1;32mprint\u001b[0m \u001b[1;34m\"OK\"\u001b[0m\u001b[1;33m\u001b[0m\u001b[0m\n",
      "\u001b[1;31mAssertionError\u001b[0m: valores incorretos!"
     ]
    }
   ],
   "source": [
    "assert top15 == [(u'the', 27361), (u'and', 26028), (u'i', 20681), (u'to', 19150), (u'of', 17463),\n",
    "                   (u'a', 14593), (u'you', 13615), (u'my', 12481), (u'in', 10956), (u'that', 10890),\n",
    "                   (u'is', 9134), (u'not', 8497), (u'with', 7771), (u'me', 7769), (u'it', 7678)],'valores incorretos!'\n",
    "print \"OK\""
   ]
  },
  {
   "cell_type": "markdown",
   "metadata": {},
   "source": [
    "### ** Parte 5: Similaridade entre Objetos **"
   ]
  },
  {
   "cell_type": "markdown",
   "metadata": {},
   "source": [
    "### Nessa parte do laborat�rio vamos aprender a calcular a dist�ncia entre atributos num�ricos, categ�ricos e textuais."
   ]
  },
  {
   "cell_type": "markdown",
   "metadata": {},
   "source": [
    "#### ** (5a) Vetores no espa�o Euclidiano **\n",
    "\n",
    "#### Quando nossos objetos s�o representados no espa�o Euclidiano, medimos a similaridade entre eles atrav�s da *p-Norma* definida por:\n",
    "\n",
    "#### $$d(x,y,p) = (\\sum_{i=1}^{n}{|x_i - y_i|^p})^{1/p}$$\n",
    "\n",
    "#### As normas mais utilizadas s�o $p=1,2,\\infty$ que se reduzem em dist�ncia absoluta, Euclidiana e m�xima dist�ncia:\n",
    "\n",
    "#### $$d(x,y,1) = \\sum_{i=1}^{n}{|x_i - y_i|}$$\n",
    "\n",
    "#### $$d(x,y,2) = (\\sum_{i=1}^{n}{|x_i - y_i|^2})^{1/2}$$\n",
    "\n",
    "#### $$d(x,y,\\infty) = \\max(|x_1 - y_1|,|x_2 - y_2|, ..., |x_n - y_n|)$$"
   ]
  },
  {
   "cell_type": "code",
   "execution_count": 2,
   "metadata": {
    "collapsed": true
   },
   "outputs": [],
   "source": [
    "import numpy as np\n",
    "\n",
    "# Vamos criar uma fun��o pNorm que recebe como par�metro p e retorna uma fun��o que calcula a pNorma\n",
    "def pNorm(p):\n",
    "    \"\"\"Generates a function to calculate the p-Norm between two points.\n",
    "\n",
    "    Args:\n",
    "        p (int): The integer p.\n",
    "\n",
    "    Returns:\n",
    "        Dist: A function that calculates the p-Norm.\n",
    "    \"\"\"\n",
    "\n",
    "    def Dist(x,y):\n",
    "        return np.power(np.power(np.abs(x-y),p).sum(),1/float(p))\n",
    "    return Dist"
   ]
  },
  {
   "cell_type": "code",
   "execution_count": 3,
   "metadata": {},
   "outputs": [
    {
     "name": "stdout",
     "output_type": "stream",
     "text": [
      "[(0, array([ 0.02088779,  0.56734739,  0.1759317 ,  0.74472076,  0.8098579 ,\n",
      "        0.68340681,  0.81176161,  0.42126328,  0.55793716,  0.14136216,\n",
      "        0.02324548,  0.48759306,  0.35632734,  0.67751907,  0.01354437,\n",
      "        0.46823898,  0.03759259,  0.76025424,  0.27897868,  0.65366724,\n",
      "        0.09471776,  0.54582109,  0.01616957,  0.13900668,  0.78057314,\n",
      "        0.69561893,  0.28683765,  0.62604933,  0.4064357 ,  0.12291652,\n",
      "        0.40562691,  0.15835979,  0.3374981 ,  0.05422481,  0.12500799,\n",
      "        0.4389002 ,  0.99357895,  0.94434895,  0.97400265,  0.05851802,\n",
      "        0.07395272,  0.63730987,  0.469161  ,  0.85426049,  0.36430603,\n",
      "        0.8652683 ,  0.38749399,  0.33576264,  0.97883646,  0.19498692,\n",
      "        0.88465284,  0.00235869,  0.46971399,  0.88322168,  0.12024469,\n",
      "        0.41225621,  0.56820908,  0.08383557,  0.11430299,  0.02148104,\n",
      "        0.85696227,  0.89943158,  0.33532896,  0.92355888,  0.60513125,\n",
      "        0.91402886,  0.7647659 ,  0.34265298,  0.61736719,  0.0163359 ,\n",
      "        0.49683383,  0.57581662,  0.30765316,  0.99993642,  0.77749582,\n",
      "        0.27026719,  0.04223849,  0.92900017,  0.33563574,  0.97801268,\n",
      "        0.54986083,  0.41598684,  0.3643228 ,  0.90031922,  0.43143606,\n",
      "        0.2259219 ,  0.00834183,  0.50691072,  0.84873436,  0.04516904,\n",
      "        0.09090995,  0.96698216,  0.7115025 ,  0.14657438,  0.60899548,\n",
      "        0.89501616,  0.08200559,  0.36943701,  0.55839996,  0.8852551 ])), (1, array([  9.28714160e-01,   2.47147685e-01,   3.42710726e-01,\n",
      "         8.55652391e-02,   1.65033605e-01,   2.64515391e-01,\n",
      "         3.56641038e-02,   1.45631045e-01,   1.69652616e-01,\n",
      "         3.04676561e-01,   7.00410666e-01,   3.93895500e-01,\n",
      "         6.97800055e-01,   2.81679555e-01,   4.12941871e-02,\n",
      "         9.82561303e-01,   5.29492683e-01,   1.90576715e-01,\n",
      "         5.60869229e-01,   3.14598793e-01,   1.40348691e-01,\n",
      "         1.91882181e-01,   2.29942043e-02,   8.76946058e-01,\n",
      "         6.07965034e-01,   7.55494117e-01,   6.19243101e-01,\n",
      "         3.53764334e-01,   5.44183644e-04,   9.44067199e-01,\n",
      "         2.32315321e-02,   8.05803292e-01,   1.86323917e-01,\n",
      "         4.26280565e-01,   5.12766451e-01,   8.58513042e-01,\n",
      "         7.37319489e-01,   6.17840619e-01,   9.01635985e-01,\n",
      "         4.99934203e-01,   9.78836206e-01,   4.65382944e-01,\n",
      "         1.90410679e-02,   2.67789817e-01,   1.39257371e-01,\n",
      "         8.35716901e-01,   8.55761038e-02,   7.95989902e-01,\n",
      "         9.93424834e-01,   7.70054130e-01,   6.35907418e-01,\n",
      "         8.45868645e-01,   5.60062356e-01,   4.32838180e-01,\n",
      "         5.95917929e-01,   4.91303328e-01,   6.89905313e-01,\n",
      "         2.95428138e-01,   5.78420547e-01,   5.19311631e-01,\n",
      "         9.65986309e-01,   1.07772532e-01,   5.05890105e-01,\n",
      "         4.91017153e-01,   4.64717603e-01,   5.72868178e-01,\n",
      "         1.87813149e-01,   2.92837640e-01,   8.69196357e-02,\n",
      "         1.26865516e-01,   1.99944699e-01,   9.08321374e-02,\n",
      "         2.83439427e-01,   7.58068883e-01,   2.86444973e-01,\n",
      "         1.09236889e-01,   9.87664899e-01,   6.75959223e-02,\n",
      "         6.26224302e-01,   5.21978736e-01,   6.32696342e-01,\n",
      "         8.42314221e-01,   3.60726915e-01,   8.02861957e-01,\n",
      "         2.49455310e-01,   8.72633075e-01,   6.79986068e-01,\n",
      "         1.00228404e-01,   9.96524334e-01,   5.65633744e-01,\n",
      "         7.84011045e-01,   8.68708000e-02,   3.31120357e-01,\n",
      "         3.47244018e-01,   9.60723883e-01,   6.59281535e-03,\n",
      "         8.11733488e-03,   9.59781352e-01,   5.16473391e-02,\n",
      "         2.54158579e-01])), (2, array([ 0.12161539,  0.95051867,  0.62307715,  0.50144917,  0.21817517,\n",
      "        0.62979468,  0.18581307,  0.56581304,  0.70470515,  0.79471253,\n",
      "        0.66949634,  0.35841499,  0.77390884,  0.28055344,  0.15745092,\n",
      "        0.70288929,  0.0446633 ,  0.42124626,  0.52429884,  0.27877467,\n",
      "        0.57544275,  0.44212755,  0.73328257,  0.10453137,  0.70634005,\n",
      "        0.53268441,  0.10229923,  0.91223346,  0.39870699,  0.00329742,\n",
      "        0.23243132,  0.69197975,  0.42739156,  0.89185706,  0.03984335,\n",
      "        0.0786761 ,  0.78601645,  0.12832075,  0.8211256 ,  0.55608966,\n",
      "        0.55337245,  0.40845086,  0.12730708,  0.95167806,  0.47131873,\n",
      "        0.81485129,  0.95697199,  0.5282279 ,  0.48976035,  0.69409655,\n",
      "        0.01192901,  0.9841774 ,  0.75103351,  0.57519864,  0.70571151,\n",
      "        0.44220067,  0.76794919,  0.44825962,  0.72202797,  0.93917626,\n",
      "        0.10027681,  0.57169705,  0.52526312,  0.18824673,  0.21830758,\n",
      "        0.35952574,  0.69782903,  0.21284295,  0.10526317,  0.86963068,\n",
      "        0.48487603,  0.29441029,  0.23484295,  0.37478981,  0.74651466,\n",
      "        0.1265162 ,  0.46684718,  0.87022217,  0.84196917,  0.57333519,\n",
      "        0.52425905,  0.23511398,  0.30906056,  0.41358508,  0.26053854,\n",
      "        0.80310312,  0.21873482,  0.57634276,  0.27641132,  0.88587963,\n",
      "        0.70274553,  0.50048236,  0.84890653,  0.99445622,  0.09923432,\n",
      "        0.16296762,  0.04218798,  0.81610614,  0.97296671,  0.21921535])), (3, array([ 0.31543517,  0.8595765 ,  0.14873833,  0.56629112,  0.5868579 ,\n",
      "        0.74281527,  0.43326873,  0.00550789,  0.94074249,  0.25554311,\n",
      "        0.53566266,  0.50875049,  0.89668451,  0.25104341,  0.51368557,\n",
      "        0.41983192,  0.43134937,  0.25623197,  0.64693477,  0.80205112,\n",
      "        0.69833528,  0.44247154,  0.88813079,  0.16711558,  0.06172701,\n",
      "        0.14201048,  0.22319747,  0.70541178,  0.04286073,  0.71768042,\n",
      "        0.79865943,  0.33102225,  0.20500547,  0.58755626,  0.64806395,\n",
      "        0.81090045,  0.63994677,  0.30561203,  0.9696779 ,  0.68505275,\n",
      "        0.15146063,  0.06411542,  0.7451234 ,  0.29167435,  0.00145628,\n",
      "        0.47615872,  0.32735397,  0.30441072,  0.66132636,  0.13980905,\n",
      "        0.95205333,  0.70655656,  0.81445594,  0.51933967,  0.75422649,\n",
      "        0.33931996,  0.0212638 ,  0.83293446,  0.1017328 ,  0.60078057,\n",
      "        0.24107064,  0.95904797,  0.19401465,  0.78049365,  0.37572165,\n",
      "        0.17406103,  0.45258786,  0.32201578,  0.1790566 ,  0.54612987,\n",
      "        0.33052535,  0.57656753,  0.13654187,  0.00553601,  0.62405221,\n",
      "        0.21214992,  0.05087583,  0.99692974,  0.99544339,  0.91590009,\n",
      "        0.23602346,  0.91516482,  0.56764736,  0.8414311 ,  0.49519842,\n",
      "        0.99920309,  0.79357406,  0.0176465 ,  0.50004524,  0.11914558,\n",
      "        0.32224658,  0.35887831,  0.61284815,  0.28840545,  0.96542907,\n",
      "        0.34297427,  0.42858407,  0.47242842,  0.80204182,  0.21887039])), (4, array([ 0.21266332,  0.95005232,  0.82008315,  0.32910606,  0.18405036,\n",
      "        0.56318985,  0.32756448,  0.08136667,  0.59686488,  0.98192246,\n",
      "        0.76924728,  0.63251614,  0.80933474,  0.42555392,  0.66366038,\n",
      "        0.47749464,  0.87881213,  0.82758721,  0.11144412,  0.94949166,\n",
      "        0.71087491,  0.50660209,  0.17507559,  0.2565121 ,  0.15965389,\n",
      "        0.38652524,  0.1490356 ,  0.79026621,  0.16120315,  0.76842473,\n",
      "        0.43437063,  0.93210287,  0.23649305,  0.59734384,  0.95710734,\n",
      "        0.78697745,  0.63801982,  0.12502004,  0.77755731,  0.89038075,\n",
      "        0.17976905,  0.30161911,  0.94041074,  0.92465603,  0.2826289 ,\n",
      "        0.66021477,  0.33847547,  0.97770484,  0.04084838,  0.11830871,\n",
      "        0.95493517,  0.57028792,  0.18127243,  0.79876185,  0.98394786,\n",
      "        0.56198726,  0.84171904,  0.97070051,  0.87738217,  0.27312026,\n",
      "        0.70396063,  0.65072758,  0.01924567,  0.99793408,  0.02517222,\n",
      "        0.32272098,  0.95099246,  0.96908492,  0.71893852,  0.47656415,\n",
      "        0.31596026,  0.96694331,  0.29576282,  0.67316813,  0.59214851,\n",
      "        0.72072679,  0.4822876 ,  0.88735184,  0.2201031 ,  0.67447694,\n",
      "        0.85958452,  0.21249953,  0.81252466,  0.19012524,  0.86260121,\n",
      "        0.05957106,  0.16173262,  0.34863076,  0.06018659,  0.39549057,\n",
      "        0.00545487,  0.61280513,  0.78259079,  0.44232863,  0.18959505,\n",
      "        0.28142132,  0.83659827,  0.85792089,  0.71944114,  0.14579999])), (5, array([ 0.06937966,  0.16138632,  0.45341444,  0.22170016,  0.14413098,\n",
      "        0.43213333,  0.71545495,  0.81110537,  0.21457571,  0.46205722,\n",
      "        0.65769565,  0.84262398,  0.42490133,  0.79282945,  0.97308738,\n",
      "        0.35324205,  0.14088136,  0.14311013,  0.11072822,  0.8469759 ,\n",
      "        0.90940555,  0.52565925,  0.49411757,  0.35041429,  0.61041854,\n",
      "        0.51223308,  0.57142249,  0.07495064,  0.5635019 ,  0.51446312,\n",
      "        0.254646  ,  0.74454788,  0.00528667,  0.16965078,  0.86778366,\n",
      "        0.69534449,  0.6042146 ,  0.00234454,  0.76590149,  0.6913129 ,\n",
      "        0.44828668,  0.97128478,  0.70348191,  0.2384993 ,  0.97790795,\n",
      "        0.88793804,  0.42665748,  0.26907737,  0.96970327,  0.29948458,\n",
      "        0.7613791 ,  0.2857712 ,  0.2587632 ,  0.78527554,  0.10008234,\n",
      "        0.55350846,  0.96964759,  0.87439697,  0.48763417,  0.17048857,\n",
      "        0.54625181,  0.91328242,  0.88140462,  0.30348581,  0.21137447,\n",
      "        0.59263333,  0.43403661,  0.683338  ,  0.86925601,  0.8681344 ,\n",
      "        0.35541173,  0.17836603,  0.96443952,  0.3773059 ,  0.65087698,\n",
      "        0.50594312,  0.32343986,  0.11550658,  0.53226315,  0.63309719,\n",
      "        0.44195598,  0.61767374,  0.91012575,  0.76320231,  0.11546091,\n",
      "        0.1547188 ,  0.50833298,  0.37489158,  0.80261568,  0.74000394,\n",
      "        0.47961224,  0.8358048 ,  0.83835085,  0.75480324,  0.09221954,\n",
      "        0.81322791,  0.30231811,  0.94827176,  0.81708207,  0.60743508])), (6, array([ 0.96294697,  0.71061593,  0.36386418,  0.37243055,  0.27910528,\n",
      "        0.20879315,  0.53395742,  0.06505441,  0.98433178,  0.74572694,\n",
      "        0.12402001,  0.40744076,  0.51860947,  0.82946272,  0.21137811,\n",
      "        0.32765956,  0.45266518,  0.60848594,  0.57060497,  0.91535519,\n",
      "        0.70630456,  0.35630959,  0.85827518,  0.44309039,  0.58756311,\n",
      "        0.00877018,  0.71069135,  0.44082876,  0.67810226,  0.81569856,\n",
      "        0.52575006,  0.60678795,  0.89480522,  0.97381107,  0.41971775,\n",
      "        0.54694291,  0.60082063,  0.12613532,  0.80978705,  0.72881292,\n",
      "        0.38439564,  0.92053549,  0.2964927 ,  0.74961985,  0.50340129,\n",
      "        0.23784104,  0.35433393,  0.94952125,  0.46303725,  0.15385485,\n",
      "        0.0285893 ,  0.77776711,  0.64920659,  0.8891351 ,  0.0398534 ,\n",
      "        0.6316133 ,  0.43029365,  0.83869405,  0.77536739,  0.3901495 ,\n",
      "        0.42652277,  0.17741131,  0.38772178,  0.31980231,  0.60256333,\n",
      "        0.49282354,  0.96550151,  0.21432153,  0.83066561,  0.21798114,\n",
      "        0.25947651,  0.7438298 ,  0.06414468,  0.62835315,  0.40326746,\n",
      "        0.50915892,  0.78990895,  0.5139987 ,  0.78888472,  0.14233571,\n",
      "        0.32826323,  0.82510186,  0.51612936,  0.00757065,  0.67484308,\n",
      "        0.89234658,  0.56730785,  0.18464802,  0.68585114,  0.15050772,\n",
      "        0.81644921,  0.2518695 ,  0.22804519,  0.72352255,  0.32923733,\n",
      "        0.78858953,  0.36422946,  0.28084929,  0.61894635,  0.75148347])), (7, array([ 0.63078441,  0.49290437,  0.65390829,  0.90093058,  0.68892664,\n",
      "        0.30057826,  0.65394768,  0.24010424,  0.73535793,  0.73329763,\n",
      "        0.43301   ,  0.30802488,  0.60358422,  0.54446599,  0.9235072 ,\n",
      "        0.91787776,  0.27563435,  0.98321548,  0.41013725,  0.09252149,\n",
      "        0.08883241,  0.73853185,  0.21257374,  0.0071585 ,  0.87056723,\n",
      "        0.83329207,  0.65032132,  0.64597719,  0.60787568,  0.53430707,\n",
      "        0.00999124,  0.40230186,  0.90694354,  0.29598218,  0.3761158 ,\n",
      "        0.469753  ,  0.80693838,  0.35626009,  0.10446252,  0.25659765,\n",
      "        0.97430699,  0.58113118,  0.28588096,  0.28212296,  0.86594602,\n",
      "        0.21632128,  0.18889872,  0.07890417,  0.02954761,  0.54327686,\n",
      "        0.88439893,  0.32988179,  0.39292655,  0.96733541,  0.57337238,\n",
      "        0.30197755,  0.29924156,  0.87672676,  0.22750766,  0.46700841,\n",
      "        0.59921544,  0.08843401,  0.76701167,  0.37379   ,  0.48169319,\n",
      "        0.64486236,  0.96825111,  0.18020491,  0.8546636 ,  0.70348672,\n",
      "        0.5086601 ,  0.40075457,  0.11080595,  0.6193691 ,  0.87092625,\n",
      "        0.89065884,  0.33513347,  0.28652244,  0.39602399,  0.71440541,\n",
      "        0.86889412,  0.69395473,  0.47437657,  0.29807343,  0.0083986 ,\n",
      "        0.41491831,  0.24801879,  0.48929587,  0.37077406,  0.63324799,\n",
      "        0.42951444,  0.22872473,  0.69099475,  0.91897977,  0.80909803,\n",
      "        0.90554502,  0.37952067,  0.33861163,  0.51936965,  0.89968812])), (8, array([ 0.66021461,  0.2524678 ,  0.4915014 ,  0.45456589,  0.4640225 ,\n",
      "        0.4929116 ,  0.08521839,  0.51987698,  0.04684451,  0.86297949,\n",
      "        0.61268336,  0.73519046,  0.28114892,  0.50245097,  0.60872372,\n",
      "        0.07624902,  0.76809452,  0.44542337,  0.29691894,  0.95197356,\n",
      "        0.20385705,  0.72674852,  0.02842176,  0.56217961,  0.63898375,\n",
      "        0.07526154,  0.04562923,  0.98889901,  0.45839774,  0.53088113,\n",
      "        0.76370232,  0.29328166,  0.40330045,  0.56874719,  0.67084999,\n",
      "        0.49053413,  0.05878235,  0.32600305,  0.28752136,  0.25413823,\n",
      "        0.42167278,  0.49915952,  0.71301266,  0.75554162,  0.1620606 ,\n",
      "        0.5965794 ,  0.5107782 ,  0.39358497,  0.13684154,  0.29961092,\n",
      "        0.01557567,  0.29548071,  0.92392957,  0.73071253,  0.69434711,\n",
      "        0.21417417,  0.51426958,  0.58541201,  0.04868854,  0.1627978 ,\n",
      "        0.28611214,  0.9115863 ,  0.05082917,  0.76903337,  0.53519627,\n",
      "        0.31560314,  0.37318072,  0.17204682,  0.34122133,  0.64551942,\n",
      "        0.58672939,  0.52504441,  0.26712738,  0.35876153,  0.15702676,\n",
      "        0.5815513 ,  0.51863779,  0.26563778,  0.01438524,  0.60563112,\n",
      "        0.55697714,  0.227137  ,  0.28507906,  0.0426523 ,  0.32518328,\n",
      "        0.5921785 ,  0.48201204,  0.8343381 ,  0.70146677,  0.52437534,\n",
      "        0.8825579 ,  0.69759207,  0.11482837,  0.95648109,  0.66815147,\n",
      "        0.53955747,  0.50538139,  0.13208672,  0.88445493,  0.36684131])), (9, array([ 0.6583515 ,  0.92928288,  0.66122379,  0.42136339,  0.59646181,\n",
      "        0.58839385,  0.09094197,  0.23424738,  0.6922441 ,  0.74813235,\n",
      "        0.96625199,  0.21564592,  0.70669275,  0.79274823,  0.08251475,\n",
      "        0.22206755,  0.29404183,  0.50796683,  0.94108945,  0.43776782,\n",
      "        0.48719344,  0.23261171,  0.70863505,  0.46645221,  0.71632903,\n",
      "        0.174023  ,  0.89608256,  0.39989295,  0.80019084,  0.98927254,\n",
      "        0.30891361,  0.92125285,  0.30311565,  0.3960524 ,  0.50461275,\n",
      "        0.03036645,  0.49361483,  0.62497196,  0.39686836,  0.8646519 ,\n",
      "        0.40035131,  0.8243801 ,  0.55742363,  0.73978835,  0.8430554 ,\n",
      "        0.26489625,  0.80050409,  0.99816296,  0.0056174 ,  0.6385048 ,\n",
      "        0.11602922,  0.61312632,  0.08600822,  0.26167677,  0.02227157,\n",
      "        0.351124  ,  0.84630602,  0.73112566,  0.72286972,  0.78604293,\n",
      "        0.98850107,  0.20650206,  0.91348908,  0.74765553,  0.27405873,\n",
      "        0.20352266,  0.96525967,  0.59272298,  0.47826934,  0.21475102,\n",
      "        0.97605891,  0.62149547,  0.30437686,  0.11452917,  0.27562905,\n",
      "        0.04843736,  0.61312438,  0.41245633,  0.82068913,  0.47662988,\n",
      "        0.73129414,  0.28806208,  0.46325794,  0.58396951,  0.0626836 ,\n",
      "        0.44039211,  0.57863988,  0.04624665,  0.14733138,  0.49547405,\n",
      "        0.35864822,  0.39303391,  0.25131792,  0.42098486,  0.37457373,\n",
      "        0.39605797,  0.11868477,  0.85993102,  0.70677041,  0.47640271]))]\n"
     ]
    }
   ],
   "source": [
    "# Vamos criar uma RDD com valores num�ricos\n",
    "numPointsRDD = sc.parallelize(enumerate(np.random.random(size=(10,100))))\n",
    "\n",
    "print numPointsRDD.collect()"
   ]
  },
  {
   "cell_type": "code",
   "execution_count": 6,
   "metadata": {
    "scrolled": false
   },
   "outputs": [
    {
     "name": "stdout",
     "output_type": "stream",
     "text": [
      "0.0 4.73232155381 3.66147393532\n"
     ]
    }
   ],
   "source": [
    "# EXERCICIO\n",
    "# Procure dentre os comandos do PySpark, um que consiga fazer o produto cartesiano da base com ela mesma\n",
    "cartPointsRDD = numPointsRDD.cartesian(numPointsRDD) \n",
    "\n",
    "# Aplique um mapa para transformar nossa RDD em uma RDD de tuplas ((id1,id2), (vetor1,vetor2))\n",
    "# DICA: primeiro utilize o comando take(1) e imprima o resultado para verificar o formato atual da RDD\n",
    "cartPointsParesRDD = cartPointsRDD.map(lambda x: ((x[0][0], x[1][0]), (x[0][1], x[1][1])))\n",
    "\n",
    "# Aplique um mapa para calcular a Dist�ncia Euclidiana entre os pares\n",
    "Euclid = pNorm(2)\n",
    "distRDD = cartPointsParesRDD.map(lambda x: (x[0], Euclid(x[1][0], x[1][1])))\n",
    "\n",
    "# Encontre a dist�ncia m�xima, m�nima e m�dia, aplicando um mapa que transforma (chave,valor) --> valor\n",
    "# e utilizando os comandos internos do pyspark para o c�lculo da min, max, mean\n",
    "statRDD = distRDD.map(lambda x : x[1])\n",
    "\n",
    "minv, maxv, meanv = statRDD.min(), statRDD.max(), statRDD.mean() \n",
    "print minv, maxv, meanv"
   ]
  },
  {
   "cell_type": "code",
   "execution_count": 7,
   "metadata": {},
   "outputs": [
    {
     "ename": "AssertionError",
     "evalue": "Valores incorretos",
     "output_type": "error",
     "traceback": [
      "\u001b[1;31m---------------------------------------------------------------------------\u001b[0m",
      "\u001b[1;31mAssertionError\u001b[0m                            Traceback (most recent call last)",
      "\u001b[1;32m<ipython-input-7-400e44f76b53>\u001b[0m in \u001b[0;36m<module>\u001b[1;34m()\u001b[0m\n\u001b[1;32m----> 1\u001b[1;33m \u001b[1;32massert\u001b[0m \u001b[1;33m(\u001b[0m\u001b[0mminv\u001b[0m\u001b[1;33m.\u001b[0m\u001b[0mround\u001b[0m\u001b[1;33m(\u001b[0m\u001b[1;36m2\u001b[0m\u001b[1;33m)\u001b[0m\u001b[1;33m,\u001b[0m \u001b[0mmaxv\u001b[0m\u001b[1;33m.\u001b[0m\u001b[0mround\u001b[0m\u001b[1;33m(\u001b[0m\u001b[1;36m2\u001b[0m\u001b[1;33m)\u001b[0m\u001b[1;33m,\u001b[0m \u001b[0mmeanv\u001b[0m\u001b[1;33m.\u001b[0m\u001b[0mround\u001b[0m\u001b[1;33m(\u001b[0m\u001b[1;36m2\u001b[0m\u001b[1;33m)\u001b[0m\u001b[1;33m)\u001b[0m\u001b[1;33m==\u001b[0m\u001b[1;33m(\u001b[0m\u001b[1;36m0.0\u001b[0m\u001b[1;33m,\u001b[0m \u001b[1;36m4.70\u001b[0m\u001b[1;33m,\u001b[0m \u001b[1;36m3.65\u001b[0m\u001b[1;33m)\u001b[0m\u001b[1;33m,\u001b[0m \u001b[1;34m'Valores incorretos'\u001b[0m\u001b[1;33m\u001b[0m\u001b[0m\n\u001b[0m\u001b[0;32m      2\u001b[0m \u001b[1;32mprint\u001b[0m \u001b[1;34m\"OK\"\u001b[0m\u001b[1;33m\u001b[0m\u001b[0m\n",
      "\u001b[1;31mAssertionError\u001b[0m: Valores incorretos"
     ]
    }
   ],
   "source": [
    "assert (minv.round(2), maxv.round(2), meanv.round(2))==(0.0, 4.70, 3.65), 'Valores incorretos'\n",
    "print \"OK\""
   ]
  },
  {
   "cell_type": "markdown",
   "metadata": {},
   "source": [
    "#### ** (5b) Valores Categ�ricos **\n",
    "\n",
    "#### Quando nossos objetos s�o representados por atributos categ�ricos, eles n�o possuem uma similaridade espacial. Para calcularmos a similaridade entre eles podemos primeiro transformar nosso vetor de atrbutos em um vetor bin�rio indicando, para cada poss�vel valor de cada atributo, se ele possui esse atributo ou n�o.\n",
    "\n",
    "#### Com o vetor bin�rio podemos utilizar a dist�ncia de Hamming  definida por:\n",
    "\n",
    "#### $$ H(x,y) = \\sum_{i=1}^{n}{x_i != y_i} $$\n",
    "\n",
    "#### Tamb�m � poss�vel definir a dist�ncia de Jaccard como:\n",
    "\n",
    "#### $$ J(x,y) = \\frac{\\sum_{i=1}^{n}{x_i == y_i} }{\\sum_{i=1}^{n}{\\max(x_i, y_i}) } $$"
   ]
  },
  {
   "cell_type": "code",
   "execution_count": 8,
   "metadata": {
    "collapsed": true
   },
   "outputs": [],
   "source": [
    "# Vamos criar uma fun��o para calcular a dist�ncia de Hamming\n",
    "def Hamming(x,y):\n",
    "    \"\"\"Calculates the Hamming distance between two binary vectors.\n",
    "\n",
    "    Args:\n",
    "        x, y (np.array): Array of binary integers x and y.\n",
    "\n",
    "    Returns:\n",
    "        H (int): The Hamming distance between x and y.\n",
    "    \"\"\"\n",
    "    return (x!=y).sum()\n",
    "\n",
    "# Vamos criar uma fun��o para calcular a dist�ncia de Jaccard\n",
    "def Jaccard(x,y):\n",
    "    \"\"\"Calculates the Jaccard distance between two binary vectors.\n",
    "\n",
    "    Args:\n",
    "        x, y (np.array): Array of binary integers x and y.\n",
    "\n",
    "    Returns:\n",
    "        J (int): The Jaccard distance between x and y.\n",
    "    \"\"\"\n",
    "    return (x==y).sum()/float( np.maximum(x,y).sum() )"
   ]
  },
  {
   "cell_type": "code",
   "execution_count": 9,
   "metadata": {
    "collapsed": true
   },
   "outputs": [],
   "source": [
    "# Vamos criar uma RDD com valores categ�ricos\n",
    "catPointsRDD = sc.parallelize(enumerate([['alto', 'caro', 'azul'],\n",
    "                             ['medio', 'caro', 'verde'],\n",
    "                             ['alto', 'barato', 'azul'],\n",
    "                             ['medio', 'caro', 'vermelho'],\n",
    "                             ['baixo', 'barato', 'verde'],\n",
    "                            ]))"
   ]
  },
  {
   "cell_type": "code",
   "execution_count": 11,
   "metadata": {},
   "outputs": [
    {
     "name": "stdout",
     "output_type": "stream",
     "text": [
      "{'alto': 0, 'medio': 7, 'baixo': 5, 'barato': 2, 'azul': 4, 'verde': 6, 'caro': 3, 'vermelho': 1} 8\n"
     ]
    }
   ],
   "source": [
    "# EXERCICIO\n",
    "# Crie um RDD de chaves �nicas utilizando flatMap\n",
    "chavesRDD = (catPointsRDD\n",
    "              .flatMap(lambda x: x[1])\n",
    "              .map(lambda x: (x, 1))\n",
    "              .reduceByKey(lambda x, y : x + y)\n",
    "              .map(lambda x : x[0])\n",
    "              )\n",
    "\n",
    "\n",
    "chaves = dict((v,k) for k,v in enumerate(chavesRDD.collect()))\n",
    "nchaves = len(chaves)\n",
    "print chaves, nchaves\n"
   ]
  },
  {
   "cell_type": "code",
   "execution_count": 12,
   "metadata": {},
   "outputs": [
    {
     "ename": "AssertionError",
     "evalue": "valores incorretos!",
     "output_type": "error",
     "traceback": [
      "\u001b[1;31m---------------------------------------------------------------------------\u001b[0m",
      "\u001b[1;31mAssertionError\u001b[0m                            Traceback (most recent call last)",
      "\u001b[1;32m<ipython-input-12-099d520fc479>\u001b[0m in \u001b[0;36m<module>\u001b[1;34m()\u001b[0m\n\u001b[1;32m----> 1\u001b[1;33m \u001b[1;32massert\u001b[0m \u001b[0mchaves\u001b[0m\u001b[1;33m==\u001b[0m\u001b[1;33m{\u001b[0m\u001b[1;34m'alto'\u001b[0m\u001b[1;33m:\u001b[0m \u001b[1;36m0\u001b[0m\u001b[1;33m,\u001b[0m \u001b[1;34m'medio'\u001b[0m\u001b[1;33m:\u001b[0m \u001b[1;36m1\u001b[0m\u001b[1;33m,\u001b[0m \u001b[1;34m'baixo'\u001b[0m\u001b[1;33m:\u001b[0m \u001b[1;36m2\u001b[0m\u001b[1;33m,\u001b[0m \u001b[1;34m'barato'\u001b[0m\u001b[1;33m:\u001b[0m \u001b[1;36m3\u001b[0m\u001b[1;33m,\u001b[0m \u001b[1;34m'azul'\u001b[0m\u001b[1;33m:\u001b[0m \u001b[1;36m4\u001b[0m\u001b[1;33m,\u001b[0m \u001b[1;34m'verde'\u001b[0m\u001b[1;33m:\u001b[0m \u001b[1;36m5\u001b[0m\u001b[1;33m,\u001b[0m \u001b[1;34m'caro'\u001b[0m\u001b[1;33m:\u001b[0m \u001b[1;36m6\u001b[0m\u001b[1;33m,\u001b[0m \u001b[1;34m'vermelho'\u001b[0m\u001b[1;33m:\u001b[0m \u001b[1;36m7\u001b[0m\u001b[1;33m}\u001b[0m\u001b[1;33m,\u001b[0m \u001b[1;34m'valores incorretos!'\u001b[0m\u001b[1;33m\u001b[0m\u001b[0m\n\u001b[0m\u001b[0;32m      2\u001b[0m \u001b[1;32mprint\u001b[0m \u001b[1;34m\"OK\"\u001b[0m\u001b[1;33m\u001b[0m\u001b[0m\n\u001b[0;32m      3\u001b[0m \u001b[1;33m\u001b[0m\u001b[0m\n\u001b[0;32m      4\u001b[0m \u001b[1;32massert\u001b[0m \u001b[0mnchaves\u001b[0m\u001b[1;33m==\u001b[0m\u001b[1;36m8\u001b[0m\u001b[1;33m,\u001b[0m \u001b[1;34m'n�mero de chaves incorreta'\u001b[0m\u001b[1;33m\u001b[0m\u001b[0m\n\u001b[0;32m      5\u001b[0m \u001b[1;32mprint\u001b[0m \u001b[1;34m\"OK\"\u001b[0m\u001b[1;33m\u001b[0m\u001b[0m\n",
      "\u001b[1;31mAssertionError\u001b[0m: valores incorretos!"
     ]
    }
   ],
   "source": [
    "assert chaves=={'alto': 0, 'medio': 1, 'baixo': 2, 'barato': 3, 'azul': 4, 'verde': 5, 'caro': 6, 'vermelho': 7}, 'valores incorretos!'\n",
    "print \"OK\"\n",
    "\n",
    "assert nchaves==8, 'n�mero de chaves incorreta'\n",
    "print \"OK\""
   ]
  },
  {
   "cell_type": "code",
   "execution_count": 13,
   "metadata": {},
   "outputs": [
    {
     "data": {
      "text/plain": [
       "[(0, array([ 1.,  0.,  0.,  1.,  1.,  0.,  0.,  0.])),\n",
       " (1, array([ 0.,  0.,  0.,  1.,  0.,  0.,  1.,  1.])),\n",
       " (2, array([ 1.,  0.,  1.,  0.,  1.,  0.,  0.,  0.])),\n",
       " (3, array([ 0.,  1.,  0.,  1.,  0.,  0.,  0.,  1.])),\n",
       " (4, array([ 0.,  0.,  1.,  0.,  0.,  1.,  1.,  0.]))]"
      ]
     },
     "execution_count": 13,
     "metadata": {},
     "output_type": "execute_result"
    }
   ],
   "source": [
    "def CreateNP(atributos,chaves):  \n",
    "    \"\"\"Binarize the categorical vector using a dictionary of keys.\n",
    "\n",
    "    Args:\n",
    "        atributos (list): List of attributes of a given object.\n",
    "        chaves (dict): dictionary with the relation attribute -> index\n",
    "\n",
    "    Returns:\n",
    "        array (np.array): Binary array of attributes.\n",
    "    \"\"\"\n",
    "    \n",
    "    array = np.zeros(len(chaves))\n",
    "    for atr in atributos:\n",
    "        array[ chaves[atr] ] = 1\n",
    "    return array\n",
    "\n",
    "# Converte o RDD para o formato bin�rio, utilizando o dict chaves\n",
    "binRDD = catPointsRDD.map(lambda rec: (rec[0],CreateNP(rec[1], chaves)))\n",
    "binRDD.collect()"
   ]
  },
  {
   "cell_type": "code",
   "execution_count": 14,
   "metadata": {},
   "outputs": [
    {
     "name": "stdout",
     "output_type": "stream",
     "text": [
      "\t\tMin\tMax\tMean\n",
      "Hamming:\t0.00\t6.00\t3.52\n",
      "Jaccard:\t0.33\t2.67\t1.14\n"
     ]
    }
   ],
   "source": [
    "# EXERCICIO\n",
    "# Procure dentre os comandos do PySpark, um que consiga fazer o produto cartesiano da base com ela mesma\n",
    "cartBinRDD = binRDD.cartesian(binRDD)\n",
    "\n",
    "# Aplique um mapa para transformar nossa RDD em uma RDD de tuplas ((id1,id2), (vetor1,vetor2))\n",
    "# DICA: primeiro utilize o comando take(1) e imprima o resultado para verificar o formato atual da RDD\n",
    "cartBinParesRDD = cartBinRDD.map(lambda x: ((x[0][0], x[1][0]), (x[0][1], x[1][1])))\n",
    "\n",
    "# Aplique um mapa para calcular a Dist�ncia de Hamming e Jaccard entre os pares\n",
    "hamRDD = cartBinParesRDD.map(lambda x: (x[0], Hamming(x[1][0], x[1][1])))\n",
    "jacRDD = cartBinParesRDD.map(lambda x: (x[0], Jaccard(x[1][0], x[1][1])))\n",
    "\n",
    "# Encontre a dist�ncia m�xima, m�nima e m�dia, aplicando um mapa que transforma (chave,valor) --> valor\n",
    "# e utilizando os comandos internos do pyspark para o c�lculo da min, max, mean\n",
    "statHRDD = hamRDD.map(lambda x : x[1])\n",
    "statJRDD = jacRDD.map(lambda x : x[1])\n",
    "\n",
    "Hmin, Hmax, Hmean = statHRDD.min(), statHRDD.max(), statHRDD.mean()\n",
    "Jmin, Jmax, Jmean = statJRDD.min(), statJRDD.max(), statJRDD.mean()\n",
    "\n",
    "print \"\\t\\tMin\\tMax\\tMean\"\n",
    "print \"Hamming:\\t{:.2f}\\t{:.2f}\\t{:.2f}\".format(Hmin, Hmax, Hmean )\n",
    "print \"Jaccard:\\t{:.2f}\\t{:.2f}\\t{:.2f}\".format( Jmin, Jmax, Jmean )"
   ]
  },
  {
   "cell_type": "code",
   "execution_count": 15,
   "metadata": {},
   "outputs": [
    {
     "name": "stdout",
     "output_type": "stream",
     "text": [
      "OK\n",
      "OK\n"
     ]
    }
   ],
   "source": [
    "assert (Hmin.round(2), Hmax.round(2), Hmean.round(2)) == (0.00,6.00,3.52), 'valores incorretos'\n",
    "print \"OK\"\n",
    "assert (Jmin.round(2), Jmax.round(2), Jmean.round(2)) == (0.33,2.67,1.14), 'valores incorretos'\n",
    "print \"OK\""
   ]
  },
  {
   "cell_type": "code",
   "execution_count": null,
   "metadata": {
    "collapsed": true
   },
   "outputs": [],
   "source": []
  }
 ],
 "metadata": {
  "kernelspec": {
   "display_name": "Python 2",
   "language": "python",
   "name": "python2"
  },
  "language_info": {
   "codemirror_mode": {
    "name": "ipython",
    "version": 2
   },
   "file_extension": ".py",
   "mimetype": "text/x-python",
   "name": "python",
   "nbconvert_exporter": "python",
   "pygments_lexer": "ipython2",
   "version": "2.7.13"
  }
 },
 "nbformat": 4,
 "nbformat_minor": 1
}
